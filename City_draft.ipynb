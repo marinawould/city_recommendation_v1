{
 "cells": [
  {
   "cell_type": "markdown",
   "id": "a832269b-58c5-4b90-9d72-7dabd6e7f1ad",
   "metadata": {},
   "source": [
    "# City Recommendation System: Finding Your Ideal Place to Live"
   ]
  },
  {
   "cell_type": "markdown",
   "id": "937b364f-556b-4665-b42f-b20168dd0c6a",
   "metadata": {},
   "source": [
    "## Author: Marina Romanova\n",
    "**Date: August 3, 2023**"
   ]
  },
  {
   "cell_type": "markdown",
   "id": "938e955b-a218-4c20-917b-9a7892d6afd0",
   "metadata": {},
   "source": [
    "# City Recommendation System: Finding Your Ideal Place to Live\n",
    "\n",
    "## Description\n",
    "\n",
    "The City Recommendation System is a Python-based project that aims to help users find their ideal place to live. Moving to a new city can be a daunting task, especially when you are unfamiliar with the area. This recommendation system provides valuable insights into different cities, helping users make informed decisions about where to relocate.\n",
    "\n",
    "The system uses a combination of data sources, including such factors as 'Population', 'Level of Happiness', 'Average Temperature', 'Yearly Amount of the Sun', 'Air Quality'. By analyzing these factors, the recommendation system generates a list of cities that align with the user's preferences, displaying top-5 cities similar to user's input, and top-5 least similar.\n",
    "\n",
    "Let the City Recommendation System simplify your relocation journey and help you find the perfect city that matches your lifestyle and aspirations!"
   ]
  },
  {
   "cell_type": "markdown",
   "id": "f00e89d3-b9a7-4186-80e2-60a9f66e8e80",
   "metadata": {},
   "source": [
    "### Importing libraries and functions"
   ]
  },
  {
   "cell_type": "code",
   "execution_count": 1,
   "id": "8cf46880-d202-4b22-8c31-2b4c5c166184",
   "metadata": {},
   "outputs": [],
   "source": [
    "from sklearn.preprocessing import MinMaxScaler\n",
    "from sklearn.metrics.pairwise import cosine_similarity\n",
    "\n",
    "from scipy.spatial import cKDTree \n",
    "import pandas as pd\n",
    "import numpy as np\n",
    "import sys\n",
    "import warnings\n",
    "import seaborn as sns\n",
    "from haversine import haversine\n",
    "import matplotlib.pyplot as plt\n",
    "from scipy.spatial import distance\n",
    "if not sys.warnoptions:\n",
    "    warnings.simplefilter(\"ignore\")\n",
    "\n",
    "pd.options.display.max_colwidth = 1000\n",
    "pd.options.display.max_columns = 100\n",
    "pd.options.display.max_rows = 50000\n",
    "pd.set_option(\"display.precision\", 3)\n",
    "pd.set_option('display.float_format', lambda x: '%.5f' % x)\n",
    "\n",
    "import re\n",
    "from collections import Counter\n",
    "\n",
    "from dateutil import parser\n",
    "from datetime import datetime\n",
    "from scipy.stats import anderson\n",
    "#######################################################\n",
    "def summarize_df(df,show_uniques=None):\n",
    "    \"\"\"\n",
    "    Summarizes pandas dataframe and checks:\n",
    "    \\n-unique values\\n-missing values\\n-dtypes\n",
    "    \\n-boolean for column names that contain 'id' permutations\n",
    "    \\n-column names that contains 'date' permutations and their corresponding date format\n",
    "    \\n-date formats\n",
    "    \\n-[optional] sampled (n=3) unique values\n",
    "    \\nIts output can serve as the partial input of the date_converter function!\n",
    "    \"\"\"\n",
    "    no_unique_values=df.apply(lambda column: len(column.unique()),axis=0).values\n",
    "    missing_values=df.apply(lambda column: 100-(len(column.dropna())/len(df))*100,axis=0).values\n",
    "    dtypes=[df[colname].drop_duplicates().apply(lambda cell: type(cell)).unique().tolist() for colname in df.columns]\n",
    "    id_cols=pd.Series(df.columns).str.contains('id|Id|ID|Id.|id.|ID.').values\n",
    "    df_summary=pd.DataFrame(\n",
    "        index=df.columns\n",
    "    )\n",
    "    df_summary['no_unique_values'],df_summary['missing_values(%)'],df_summary['dtypes'],df_summary['id_col']=no_unique_values,missing_values,dtypes,id_cols\n",
    "\n",
    "    date_fil=pd.Series(df_summary.index).str.contains('date|Date|time|Time|DATE').values\n",
    "    date_format=pd.Series(df_summary.loc[date_fil,:].index).apply(\n",
    "        lambda colname: df[colname].dropna().values[0] if len(df[colname].dropna())!=0 else np.nan\n",
    "    )\n",
    "    date_format.index=df_summary.loc[date_fil,:].index\n",
    "    df_summary['date_format']=pd.Series(df_summary.index).apply(\n",
    "        lambda colname: date_format[colname] if colname in date_format.index else np.nan\n",
    "    ).values\n",
    "    if show_uniques==True:\n",
    "        unique_values_sample=df.apply(\n",
    "            lambda column: ', '.join(list(map(str,column.dropna().unique().tolist()[:3]))) if len(column.dropna().unique())>0 else np.nan,axis=0\n",
    "        ).values\n",
    "        df_summary['unique_values_sample']=unique_values_sample\n",
    "    return df_summary\n",
    "\n",
    "\n",
    "###############################\n",
    "\n",
    "def dms_to_decimal(degrees, minutes, direction):\n",
    "    decimal = degrees + minutes / 60.0\n",
    "    if direction in ['S', 'W']:\n",
    "        decimal = -decimal\n",
    "    return decimal\n",
    "\n",
    "def convert_coordinates_to_decimal(df):\n",
    "    for index, row in df.iterrows():\n",
    "        latitude_dms = row['Latitude']\n",
    "        longitude_dms = row['Longitude']\n",
    "\n",
    "        latitude_degrees = int(latitude_dms[:-4])\n",
    "        latitude_minutes = float(latitude_dms[:-1].split('.')[-1])\n",
    "        latitude_direction = latitude_dms[-1]\n",
    "\n",
    "        longitude_degrees = int(longitude_dms[:-4])\n",
    "        longitude_minutes = float(longitude_dms[:-1].split('.')[-1])\n",
    "        longitude_direction = longitude_dms[-1]\n",
    "\n",
    "        latitude_decimal = dms_to_decimal(latitude_degrees, latitude_minutes, latitude_direction)\n",
    "        longitude_decimal = dms_to_decimal(longitude_degrees, longitude_minutes, longitude_direction)\n",
    "\n",
    "        df.at[index, 'Latitude'] = latitude_decimal\n",
    "        df.at[index, 'Longitude'] = longitude_decimal\n",
    "\n",
    "    return df"
   ]
  },
  {
   "cell_type": "markdown",
   "id": "89b43ca8-f88e-4d23-ace1-201a57204a34",
   "metadata": {},
   "source": [
    "### Data Collection"
   ]
  },
  {
   "cell_type": "markdown",
   "id": "db9e3a8f-7bea-46a6-8eb8-9896a6ac86c3",
   "metadata": {},
   "source": [
    "Data was collected using datasets from Kaggle.com. You can find the links to them in the end of the project.  \n",
    "Datasets were connected between each other with a help of city and country name.  \n",
    "For Average Temperature, Sunshine Hours and Air pollution NAs were filled by the nearest known value by its latitude and longitude.  "
   ]
  },
  {
   "cell_type": "markdown",
   "id": "dc1e664d-4438-4f56-be6d-927c79c940e7",
   "metadata": {},
   "source": [
    "#### Population"
   ]
  },
  {
   "cell_type": "code",
   "execution_count": 2,
   "id": "9ad73dd0-c2ba-4fee-9042-3ae34dea923a",
   "metadata": {
    "tags": []
   },
   "outputs": [],
   "source": [
    "worldcities = pd.read_csv(\"worldcities.csv\", low_memory = False, error_bad_lines=False)\n",
    "worldcities = worldcities[['city', 'city_ascii', 'lat', 'lng', 'country', 'iso2', 'iso3', 'population']]\n",
    "worldcities = worldcities[worldcities['population'] > 50000].dropna()\n",
    "worldcities = worldcities.sort_values('population', ascending=False)\n",
    "worldcities['city_country'] = worldcities['city'] + '_'  +  worldcities['country']\n",
    "worldcities['city_country_ascii'] = worldcities['city_ascii'] + '_'  +  worldcities['country']"
   ]
  },
  {
   "cell_type": "markdown",
   "id": "618c8ac1-2383-477a-b3f7-844413ec924f",
   "metadata": {},
   "source": [
    "#### Happiness level "
   ]
  },
  {
   "cell_type": "code",
   "execution_count": 3,
   "id": "2b5c8a57-ea5a-4b36-b17c-39fbf325cb8e",
   "metadata": {
    "tags": []
   },
   "outputs": [],
   "source": [
    "happy = pd.read_csv(\"world-happiness-report-2019.csv\", low_memory = False, error_bad_lines=False)\n",
    "happy['happiness'] = happy[['Social support', 'Freedom', 'Corruption', 'Generosity', 'Healthy life\\nexpectancy']].mean(axis=1)\n",
    "happy['country'] = happy['Country (region)']\n",
    "happy = happy[['country', 'happiness']]\n",
    "worldcities = worldcities.merge(happy, on='country', how='left')\n",
    "worldcities = worldcities.dropna(subset=['country'])"
   ]
  },
  {
   "cell_type": "markdown",
   "id": "1a3586e1-f394-4fa7-a407-56243bbc6b18",
   "metadata": {},
   "source": [
    "#### Average Temperature"
   ]
  },
  {
   "cell_type": "code",
   "execution_count": 4,
   "id": "58b14021-e6ca-402b-8aea-2a1f32c4972b",
   "metadata": {
    "tags": []
   },
   "outputs": [],
   "source": [
    "temp = pd.read_csv(\"GlobalLandTemperaturesByCity.csv\", low_memory = False, error_bad_lines=False)\n",
    "\n",
    "columns_to_convert = ['dt']\n",
    "for column in columns_to_convert:\n",
    "    temp[column] = pd.to_datetime(temp[column])\n",
    "for column in columns_to_convert:\n",
    "    temp[column] = temp[column].dt.strftime('%Y-%m-%d')\n",
    "temp = temp.loc[(temp['dt'] >= '2003-01-01') & (temp['dt'] < '2013-09-01')]\n",
    "\n",
    "temp['city_country'] = temp['City'] + '_' + temp['Country']\n",
    "average_temperature = temp.groupby('city_country')['AverageTemperature'].mean()\n",
    "average_temperature = pd.DataFrame(average_temperature)\n",
    "average_temperature.reset_index(inplace=True)\n",
    "temp.drop_duplicates(subset=['city_country'], keep='first', inplace=True)\n",
    "average_temperature = average_temperature.merge(temp, on='city_country', how='left')\n",
    "average_temperature['AverageTemperature'] = average_temperature['AverageTemperature_x']\n",
    "average_temperature = average_temperature[['City', 'AverageTemperature', 'Country', 'Latitude', 'Longitude']]\n",
    "average_temperature = convert_coordinates_to_decimal(average_temperature)\n",
    "average_temperature['city_country'] = average_temperature['City'] + '_'  +  average_temperature['Country']\n",
    "\n",
    "tomerge = average_temperature[['city_country', 'AverageTemperature']]\n",
    "worldcities = worldcities.merge(tomerge, on='city_country', how='left')\n",
    "# Function to find the closest coordinate with known temperature\n",
    "def find_closest_coordinate(latitude, longitude):\n",
    "    known_coordinates = worldcities.dropna(subset=['AverageTemperature'])[['lat', 'lng']]\n",
    "    distances = known_coordinates.apply(lambda row: distance.euclidean((latitude, longitude), (row['lat'], row['lng'])), axis=1)\n",
    "    closest_index = distances.idxmin()\n",
    "    return worldcities.loc[closest_index, 'AverageTemperature']\n",
    "# Fill NaNs in 'temperature' column with the closest coordinate\n",
    "worldcities['AverageTemperature'] = worldcities.apply(lambda row: find_closest_coordinate(row['lat'], row['lng']) if np.isnan(row['AverageTemperature']) else row['AverageTemperature'], axis=1)"
   ]
  },
  {
   "cell_type": "markdown",
   "id": "cd7c1645-fedd-451d-abe5-6af6674b9967",
   "metadata": {},
   "source": [
    "#### Sunshine hours (sum, year)"
   ]
  },
  {
   "cell_type": "code",
   "execution_count": 5,
   "id": "126145fd-52a6-45b3-a010-2a9001116323",
   "metadata": {},
   "outputs": [],
   "source": [
    "sun = pd.read_csv(\"sun.csv\", low_memory = False, error_bad_lines=False)\n",
    "sun['city_country'] = sun['City'] + '_' + sun['Country']\n",
    "sun['Sun_year'] = sun['Year']\n",
    "sun = sun[['city_country', 'Sun_year']]\n",
    "worldcities = worldcities.merge(sun, on='city_country', how='left')\n",
    "\n",
    "# Function to find the closest coordinate with known temperature\n",
    "def find_closest_coordinate(latitude, longitude):\n",
    "    known_coordinates = worldcities.dropna(subset=['Sun_year'])[['lat', 'lng']]\n",
    "    distances = known_coordinates.apply(lambda row: distance.euclidean((latitude, longitude), (row['lat'], row['lng'])), axis=1)\n",
    "    closest_index = distances.idxmin()\n",
    "    return worldcities.loc[closest_index, 'Sun_year']\n",
    "# Fill NaNs in 'temperature' column with the closest coordinate\n",
    "worldcities['Sun_year'] = worldcities.apply(lambda row: find_closest_coordinate(row['lat'], row['lng']) if np.isnan(row['Sun_year']) else row['Sun_year'], axis=1)"
   ]
  },
  {
   "cell_type": "markdown",
   "id": "25870233-ad39-4f4b-9002-0b63fcc7f13f",
   "metadata": {},
   "source": [
    "#### Air pollution"
   ]
  },
  {
   "cell_type": "code",
   "execution_count": 6,
   "id": "e9fc9699-8860-4f7a-8b76-2b67ea01166a",
   "metadata": {},
   "outputs": [],
   "source": [
    "air = pd.read_csv(\"air.csv\", low_memory = False, error_bad_lines=False)\n",
    "air = air[['AQI Value', 'AQI Category', 'lat', 'lng']]\n",
    "# Create a KDTree from the latitude and longitude coordinates of dataset2\n",
    "tree = cKDTree(air[['lat', 'lng']])\n",
    "\n",
    "# Function to find the nearest point in dataset2 for each row in dataset1\n",
    "def find_nearest(row):\n",
    "    dist, index = tree.query([row['lat'], row['lng']])\n",
    "    return pd.Series(air.iloc[index])\n",
    "\n",
    "# Find the closest latitude, longitude, and values from dataset2 for each row in dataset1\n",
    "worldcities[['AQI Value', 'AQI Category', 'closest_lat', 'closest_lng']] = worldcities.apply(find_nearest, axis=1)\n",
    "del worldcities['closest_lat']\n",
    "del worldcities['closest_lng']"
   ]
  },
  {
   "cell_type": "markdown",
   "id": "af127816-0e89-4e71-960b-474fc6b06b7a",
   "metadata": {},
   "source": [
    "### Data preprocessing and analysis"
   ]
  },
  {
   "cell_type": "code",
   "execution_count": 7,
   "id": "8fd06d22-44dc-4c41-91db-66a37b330dba",
   "metadata": {},
   "outputs": [],
   "source": [
    "#categorizing cities based on their population\n",
    "\n",
    "def categorize_city_by_population(population):\n",
    "    if population < 100000:\n",
    "        return \"Medium\"\n",
    "    elif population < 1000000:\n",
    "        return \"Large\"\n",
    "    else:\n",
    "        return \"Metropolis\"\n",
    "\n",
    "# Apply the categorization function to create a new 'Category' column\n",
    "worldcities['City_Category'] = worldcities['population'].apply(categorize_city_by_population)"
   ]
  },
  {
   "cell_type": "code",
   "execution_count": 8,
   "id": "b448d672-fd7c-4080-a416-0e77ebb040ba",
   "metadata": {},
   "outputs": [],
   "source": [
    "new_column_names = {\n",
    "    'city': 'City',\n",
    "    'country': 'Country',\n",
    "    'population':'Population',\n",
    "    'happiness':'Level of Happiness',\n",
    "    'AverageTemperature':'Average Temperature',\n",
    "    'Sun_year':'Yearly Amount of the Sun',\n",
    "    'AQI Value': 'Air Quality',\n",
    "    'AQI Category': 'Air Quality Category'\n",
    "    \n",
    "    \n",
    "}\n",
    "\n",
    "worldcities.rename(columns=new_column_names, inplace=True)"
   ]
  },
  {
   "cell_type": "code",
   "execution_count": 9,
   "id": "8ea7254b-bcb4-45dc-9857-7a7207b6aebb",
   "metadata": {},
   "outputs": [
    {
     "data": {
      "text/html": [
       "<div>\n",
       "<style scoped>\n",
       "    .dataframe tbody tr th:only-of-type {\n",
       "        vertical-align: middle;\n",
       "    }\n",
       "\n",
       "    .dataframe tbody tr th {\n",
       "        vertical-align: top;\n",
       "    }\n",
       "\n",
       "    .dataframe thead th {\n",
       "        text-align: right;\n",
       "    }\n",
       "</style>\n",
       "<table border=\"1\" class=\"dataframe\">\n",
       "  <thead>\n",
       "    <tr style=\"text-align: right;\">\n",
       "      <th></th>\n",
       "      <th>no_unique_values</th>\n",
       "      <th>missing_values(%)</th>\n",
       "      <th>dtypes</th>\n",
       "      <th>id_col</th>\n",
       "      <th>date_format</th>\n",
       "      <th>unique_values_sample</th>\n",
       "    </tr>\n",
       "  </thead>\n",
       "  <tbody>\n",
       "    <tr>\n",
       "      <th>City</th>\n",
       "      <td>10289</td>\n",
       "      <td>0.00000</td>\n",
       "      <td>[&lt;class 'str'&gt;]</td>\n",
       "      <td>False</td>\n",
       "      <td>NaN</td>\n",
       "      <td>Tokyo, Jakarta, Delhi</td>\n",
       "    </tr>\n",
       "    <tr>\n",
       "      <th>Population</th>\n",
       "      <td>10178</td>\n",
       "      <td>0.00000</td>\n",
       "      <td>[&lt;class 'float'&gt;]</td>\n",
       "      <td>False</td>\n",
       "      <td>NaN</td>\n",
       "      <td>37732000.0, 33756000.0, 32226000.0</td>\n",
       "    </tr>\n",
       "    <tr>\n",
       "      <th>Average Temperature</th>\n",
       "      <td>1144</td>\n",
       "      <td>0.00000</td>\n",
       "      <td>[&lt;class 'float'&gt;]</td>\n",
       "      <td>False</td>\n",
       "      <td>NaN</td>\n",
       "      <td>13.43140625, 27.2944765625, 26.0871796875</td>\n",
       "    </tr>\n",
       "    <tr>\n",
       "      <th>Yearly Amount of the Sun</th>\n",
       "      <td>276</td>\n",
       "      <td>0.00000</td>\n",
       "      <td>[&lt;class 'float'&gt;]</td>\n",
       "      <td>False</td>\n",
       "      <td>NaN</td>\n",
       "      <td>1876.7, 2983.3, 2684.6</td>\n",
       "    </tr>\n",
       "    <tr>\n",
       "      <th>Air Quality</th>\n",
       "      <td>265</td>\n",
       "      <td>0.00000</td>\n",
       "      <td>[&lt;class 'int'&gt;]</td>\n",
       "      <td>False</td>\n",
       "      <td>NaN</td>\n",
       "      <td>79, 197, 500</td>\n",
       "    </tr>\n",
       "    <tr>\n",
       "      <th>Country</th>\n",
       "      <td>189</td>\n",
       "      <td>0.00000</td>\n",
       "      <td>[&lt;class 'str'&gt;]</td>\n",
       "      <td>False</td>\n",
       "      <td>NaN</td>\n",
       "      <td>Japan, Indonesia, India</td>\n",
       "    </tr>\n",
       "    <tr>\n",
       "      <th>Level of Happiness</th>\n",
       "      <td>143</td>\n",
       "      <td>3.37100</td>\n",
       "      <td>[&lt;class 'float'&gt;]</td>\n",
       "      <td>False</td>\n",
       "      <td>NaN</td>\n",
       "      <td>49.4, 74.2, 85.2</td>\n",
       "    </tr>\n",
       "    <tr>\n",
       "      <th>Air Quality Category</th>\n",
       "      <td>6</td>\n",
       "      <td>0.00000</td>\n",
       "      <td>[&lt;class 'str'&gt;]</td>\n",
       "      <td>False</td>\n",
       "      <td>NaN</td>\n",
       "      <td>Moderate, Unhealthy, Hazardous</td>\n",
       "    </tr>\n",
       "    <tr>\n",
       "      <th>City_Category</th>\n",
       "      <td>3</td>\n",
       "      <td>0.00000</td>\n",
       "      <td>[&lt;class 'str'&gt;]</td>\n",
       "      <td>False</td>\n",
       "      <td>NaN</td>\n",
       "      <td>Metropolis, Large, Medium</td>\n",
       "    </tr>\n",
       "  </tbody>\n",
       "</table>\n",
       "</div>"
      ],
      "text/plain": [
       "                          no_unique_values  missing_values(%)  \\\n",
       "City                                 10289            0.00000   \n",
       "Population                           10178            0.00000   \n",
       "Average Temperature                   1144            0.00000   \n",
       "Yearly Amount of the Sun               276            0.00000   \n",
       "Air Quality                            265            0.00000   \n",
       "Country                                189            0.00000   \n",
       "Level of Happiness                     143            3.37100   \n",
       "Air Quality Category                     6            0.00000   \n",
       "City_Category                            3            0.00000   \n",
       "\n",
       "                                     dtypes  id_col  date_format  \\\n",
       "City                        [<class 'str'>]   False          NaN   \n",
       "Population                [<class 'float'>]   False          NaN   \n",
       "Average Temperature       [<class 'float'>]   False          NaN   \n",
       "Yearly Amount of the Sun  [<class 'float'>]   False          NaN   \n",
       "Air Quality                 [<class 'int'>]   False          NaN   \n",
       "Country                     [<class 'str'>]   False          NaN   \n",
       "Level of Happiness        [<class 'float'>]   False          NaN   \n",
       "Air Quality Category        [<class 'str'>]   False          NaN   \n",
       "City_Category               [<class 'str'>]   False          NaN   \n",
       "\n",
       "                                               unique_values_sample  \n",
       "City                                          Tokyo, Jakarta, Delhi  \n",
       "Population                       37732000.0, 33756000.0, 32226000.0  \n",
       "Average Temperature       13.43140625, 27.2944765625, 26.0871796875  \n",
       "Yearly Amount of the Sun                     1876.7, 2983.3, 2684.6  \n",
       "Air Quality                                            79, 197, 500  \n",
       "Country                                     Japan, Indonesia, India  \n",
       "Level of Happiness                                 49.4, 74.2, 85.2  \n",
       "Air Quality Category                 Moderate, Unhealthy, Hazardous  \n",
       "City_Category                             Metropolis, Large, Medium  "
      ]
     },
     "execution_count": 9,
     "metadata": {},
     "output_type": "execute_result"
    }
   ],
   "source": [
    "worldcities = worldcities[['City', 'Country', 'Population', 'City_Category', 'Level of Happiness', 'Average Temperature', 'Yearly Amount of the Sun', 'Air Quality', 'Air Quality Category']]\n",
    "analys_s=summarize_df(df=worldcities,show_uniques=True)\n",
    "pd.set_option('display.max_columns', None)\n",
    "analys_s.sort_values(by=['no_unique_values'], ascending=False)"
   ]
  },
  {
   "cell_type": "code",
   "execution_count": 10,
   "id": "9d862f90-6376-4024-8cbd-ba62c2abfdae",
   "metadata": {},
   "outputs": [
    {
     "data": {
      "text/html": [
       "<div>\n",
       "<style scoped>\n",
       "    .dataframe tbody tr th:only-of-type {\n",
       "        vertical-align: middle;\n",
       "    }\n",
       "\n",
       "    .dataframe tbody tr th {\n",
       "        vertical-align: top;\n",
       "    }\n",
       "\n",
       "    .dataframe thead th {\n",
       "        text-align: right;\n",
       "    }\n",
       "</style>\n",
       "<table border=\"1\" class=\"dataframe\">\n",
       "  <thead>\n",
       "    <tr style=\"text-align: right;\">\n",
       "      <th></th>\n",
       "      <th>Population</th>\n",
       "      <th>Level of Happiness</th>\n",
       "      <th>Average Temperature</th>\n",
       "      <th>Yearly Amount of the Sun</th>\n",
       "      <th>Air Quality</th>\n",
       "    </tr>\n",
       "  </thead>\n",
       "  <tbody>\n",
       "    <tr>\n",
       "      <th>count</th>\n",
       "      <td>10709.00000</td>\n",
       "      <td>10348.00000</td>\n",
       "      <td>10709.00000</td>\n",
       "      <td>10709.00000</td>\n",
       "      <td>10709.00000</td>\n",
       "    </tr>\n",
       "    <tr>\n",
       "      <th>mean</th>\n",
       "      <td>413701.78934</td>\n",
       "      <td>70.45486</td>\n",
       "      <td>18.63599</td>\n",
       "      <td>2386.06440</td>\n",
       "      <td>81.01205</td>\n",
       "    </tr>\n",
       "    <tr>\n",
       "      <th>std</th>\n",
       "      <td>1414167.19341</td>\n",
       "      <td>24.65966</td>\n",
       "      <td>7.29363</td>\n",
       "      <td>552.09334</td>\n",
       "      <td>58.24437</td>\n",
       "    </tr>\n",
       "    <tr>\n",
       "      <th>min</th>\n",
       "      <td>50011.00000</td>\n",
       "      <td>7.40000</td>\n",
       "      <td>-10.01845</td>\n",
       "      <td>954.80000</td>\n",
       "      <td>7.00000</td>\n",
       "    </tr>\n",
       "    <tr>\n",
       "      <th>25%</th>\n",
       "      <td>69811.00000</td>\n",
       "      <td>50.40000</td>\n",
       "      <td>12.49217</td>\n",
       "      <td>2003.30000</td>\n",
       "      <td>43.00000</td>\n",
       "    </tr>\n",
       "    <tr>\n",
       "      <th>50%</th>\n",
       "      <td>110500.00000</td>\n",
       "      <td>75.60000</td>\n",
       "      <td>19.01734</td>\n",
       "      <td>2361.00000</td>\n",
       "      <td>61.00000</td>\n",
       "    </tr>\n",
       "    <tr>\n",
       "      <th>75%</th>\n",
       "      <td>242347.00000</td>\n",
       "      <td>85.20000</td>\n",
       "      <td>25.96693</td>\n",
       "      <td>2806.00000</td>\n",
       "      <td>99.00000</td>\n",
       "    </tr>\n",
       "    <tr>\n",
       "      <th>max</th>\n",
       "      <td>37732000.00000</td>\n",
       "      <td>143.60000</td>\n",
       "      <td>30.03138</td>\n",
       "      <td>4015.30000</td>\n",
       "      <td>500.00000</td>\n",
       "    </tr>\n",
       "  </tbody>\n",
       "</table>\n",
       "</div>"
      ],
      "text/plain": [
       "          Population  Level of Happiness  Average Temperature  \\\n",
       "count    10709.00000         10348.00000          10709.00000   \n",
       "mean    413701.78934            70.45486             18.63599   \n",
       "std    1414167.19341            24.65966              7.29363   \n",
       "min      50011.00000             7.40000            -10.01845   \n",
       "25%      69811.00000            50.40000             12.49217   \n",
       "50%     110500.00000            75.60000             19.01734   \n",
       "75%     242347.00000            85.20000             25.96693   \n",
       "max   37732000.00000           143.60000             30.03138   \n",
       "\n",
       "       Yearly Amount of the Sun  Air Quality  \n",
       "count               10709.00000  10709.00000  \n",
       "mean                 2386.06440     81.01205  \n",
       "std                   552.09334     58.24437  \n",
       "min                   954.80000      7.00000  \n",
       "25%                  2003.30000     43.00000  \n",
       "50%                  2361.00000     61.00000  \n",
       "75%                  2806.00000     99.00000  \n",
       "max                  4015.30000    500.00000  "
      ]
     },
     "execution_count": 10,
     "metadata": {},
     "output_type": "execute_result"
    }
   ],
   "source": [
    "worldcities.describe()"
   ]
  },
  {
   "cell_type": "markdown",
   "id": "e1e2770a-5277-4e3e-b64e-9809c563d31c",
   "metadata": {},
   "source": [
    "The only column that still has Nas is 'Level of Happiness'. Let's take a look how it's correlating with other columns."
   ]
  },
  {
   "cell_type": "code",
   "execution_count": 11,
   "id": "6fdd4a4f-1a1e-40d6-8dcf-11f1a6a88f81",
   "metadata": {},
   "outputs": [
    {
     "data": {
      "image/png": "[encoded data removed]",
      "text/plain": [
       "<Figure size 432x288 with 2 Axes>"
      ]
     },
     "metadata": {
      "needs_background": "light"
     },
     "output_type": "display_data"
    }
   ],
   "source": [
    "correlation_matrix = worldcities.corr()\n",
    "sns.heatmap(correlation_matrix, annot=True, cmap='coolwarm', vmin=-1, vmax=1)\n",
    "plt.title('Correlation Plot of Numeric Columns')\n",
    "plt.show()"
   ]
  },
  {
   "cell_type": "markdown",
   "id": "79b2967a-a663-45a1-abaa-27b76c9dbfa3",
   "metadata": {},
   "source": [
    "There is a moderate corrleation between happiness and avergae temperature. Let's fill in NAs by this category then"
   ]
  },
  {
   "cell_type": "code",
   "execution_count": 12,
   "id": "90041184-91c4-45bf-bd44-7ce403877352",
   "metadata": {},
   "outputs": [],
   "source": [
    "# filling Level of Happiness na values based on temperature\n",
    "missing_rows = worldcities['Level of Happiness'].isnull()\n",
    "\n",
    "mean_col1 = worldcities['Level of Happiness'].mean()\n",
    "std_col1 = worldcities['Level of Happiness'].std()\n",
    "\n",
    "mean_col2 = worldcities['Average Temperature'].mean()\n",
    "std_col2 = worldcities['Average Temperature'].std()\n",
    "\n",
    "correlation_score = 0.39\n",
    "predicted_values = mean_col1 + (correlation_score * (worldcities.loc[missing_rows, 'Average Temperature'] - mean_col2) / std_col2) * std_col1\n",
    "\n",
    "worldcities.loc[missing_rows, 'Level of Happiness'] = predicted_values"
   ]
  },
  {
   "cell_type": "markdown",
   "id": "ae9a25a7-1e1b-4cea-a364-8a6cde4454a0",
   "metadata": {},
   "source": [
    "### Data Visualization"
   ]
  },
  {
   "cell_type": "code",
   "execution_count": 13,
   "id": "568bc5c4-965c-486a-8445-f1622638a149",
   "metadata": {
    "tags": []
   },
   "outputs": [
    {
     "data": {
      "image/png": "[encoded data removed]",
      "text/plain": [
       "<Figure size 864x1728 with 3 Axes>"
      ]
     },
     "metadata": {
      "needs_background": "light"
     },
     "output_type": "display_data"
    }
   ],
   "source": [
    "columns_to_plot = ['Level of Happiness', 'Yearly Amount of the Sun', 'Average Temperature']\n",
    "\n",
    "aspect_ratio = 8  \n",
    "colors = sns.color_palette('Set3', n_colors=len(columns_to_plot))\n",
    "\n",
    "plt.figure(figsize=(12, aspect_ratio * len(columns_to_plot)))  \n",
    "\n",
    "for i, (col, color) in enumerate(zip(columns_to_plot, colors), 1):\n",
    "    plt.subplot(len(columns_to_plot), 1, i)\n",
    "    sns.boxplot(data=worldcities[col], color=color) \n",
    "    plt.title(f'Boxplot for {col}')\n",
    "\n",
    "plt.tight_layout() \n",
    "plt.show()"
   ]
  },
  {
   "cell_type": "code",
   "execution_count": 14,
   "id": "577237e4-8f20-4179-84e6-5e450839b700",
   "metadata": {
    "tags": []
   },
   "outputs": [
    {
     "data": {
      "image/png": "[encoded data removed]",
      "text/plain": [
       "<Figure size 720x432 with 1 Axes>"
      ]
     },
     "metadata": {
      "needs_background": "light"
     },
     "output_type": "display_data"
    }
   ],
   "source": [
    "custom_order = ['Good', 'Moderate', 'Unhealthy for Sensitive Groups', 'Unhealthy', 'Very Unhealthy', 'Hazardous']\n",
    "\n",
    "plt.figure(figsize=(10, 6))  # Optional: Set the figure size\n",
    "worldcities['Air Quality Category'].value_counts().loc[custom_order].plot(kind='bar')\n",
    "plt.title('Air Quality')\n",
    "plt.xlabel('Categories')\n",
    "plt.ylabel('Frequency')\n",
    "plt.show()"
   ]
  },
  {
   "cell_type": "code",
   "execution_count": 15,
   "id": "e517d74c-da21-4050-b945-e4799d18aabe",
   "metadata": {},
   "outputs": [
    {
     "data": {
      "image/png": "[encoded data removed]",
      "text/plain": [
       "<Figure size 720x432 with 1 Axes>"
      ]
     },
     "metadata": {
      "needs_background": "light"
     },
     "output_type": "display_data"
    }
   ],
   "source": [
    "custom_order = ['Medium', 'Large', 'Metropolis']\n",
    "single_color = 'purple'\n",
    "\n",
    "plt.figure(figsize=(10, 6)) \n",
    "\n",
    "worldcities['City_Category'].value_counts().loc[custom_order].plot(kind='bar', color=single_color)\n",
    "\n",
    "plt.title('City Category')\n",
    "plt.xlabel('Categories')\n",
    "plt.ylabel('Frequency')\n",
    "plt.show()"
   ]
  },
  {
   "cell_type": "markdown",
   "id": "f28bc04f-c642-4c45-8f88-8cd8b475b267",
   "metadata": {},
   "source": [
    "### Recommendation Model"
   ]
  },
  {
   "cell_type": "markdown",
   "id": "4cb3afb4-33ad-46b1-8e4f-333ccb368ba9",
   "metadata": {},
   "source": [
    "I want to recommend cities that are similar to a city of the user's choice. To do this, I use a concept called \"similarity.\" It's like finding cities that are similar to the user's preferred city based on the provided attributes.To do so, I convert the attributes of each city into numbers and normalize them, so they all have the same scale. Then I calculate how similar each city is to every other city using a formula called \"cosine similarity.\" Think of it like a measure of how much two cities are alike based on their attributes.  \n",
    "\n",
    "After the calculations, a function that takes a user's preferred attributes as input is defined. The function then finds cities with attributes closest to the user's preferences. Using the function created, we find the top 5 cities that are most similar to the user's chosen city. These recommendations are based on cities that share similar attributes with the user's preferred city."
   ]
  },
  {
   "cell_type": "code",
   "execution_count": 16,
   "id": "f69a3319-6d9a-4a7e-a96d-0777e92c2de1",
   "metadata": {
    "tags": []
   },
   "outputs": [],
   "source": [
    "features = worldcities[['Population', 'Level of Happiness', 'Average Temperature', 'Yearly Amount of the Sun', 'Air Quality']]\n",
    "\n",
    "# Normalize the features using MinMaxScaler\n",
    "scaler = MinMaxScaler()\n",
    "normalized_features = scaler.fit_transform(features)\n",
    "\n",
    "# Calculate similarity matrix (content-based filtering)\n",
    "similarity_matrix = cosine_similarity(normalized_features)\n",
    "\n",
    "# Function to get top n City recommendations based on user preferences\n",
    "def get_recommendations(user_preferences, n=5):\n",
    "    user_normalized = scaler.transform([user_preferences])\n",
    "    similarity_scores = cosine_similarity(user_normalized, normalized_features)\n",
    "    sorted_indices = similarity_scores.argsort()[0][::-1]\n",
    "    top_indices = [idx for idx in sorted_indices if worldcities.iloc[idx]['City'] != user_City]  # Exclude user's chosen City\n",
    "    return worldcities.iloc[top_indices[:n]]\n",
    "\n",
    "# Function to get bottom n City recommendations based on user preferences\n",
    "def get_least_similar_recommendations(user_preferences, n=5):\n",
    "    user_normalized = scaler.transform([user_preferences])\n",
    "    similarity_scores = cosine_similarity(user_normalized, normalized_features)\n",
    "    sorted_indices = similarity_scores.argsort()[0]\n",
    "    bottom_indices = sorted_indices[:n]\n",
    "    return worldcities.iloc[bottom_indices]"
   ]
  },
  {
   "cell_type": "code",
   "execution_count": 23,
   "id": "2df81b69-3220-41ff-9d15-6c8deafbf176",
   "metadata": {},
   "outputs": [],
   "source": [
    "# Example usage: User preferences for Budapest, Hungary\n",
    "user_City = \"Budapest\"\n",
    "user_Country = \"Hungary\"\n",
    "\n",
    "# Get user preferences from the dataset based on the chosen City and Country\n",
    "user_preferences = worldcities.loc[(worldcities['City'] == user_City) & (worldcities['Country'] == user_Country), features.columns].values[0]"
   ]
  },
  {
   "cell_type": "code",
   "execution_count": 24,
   "id": "fb4c7b4d-d661-42bd-a4e3-b8ea8944e62b",
   "metadata": {},
   "outputs": [
    {
     "name": "stdout",
     "output_type": "stream",
     "text": [
      "5 Cities most similar to Budapest :\n",
      "              City  Country   Population  Level of Happiness  \\\n",
      "933         Zagreb  Croatia 809268.00000            89.80000   \n",
      "916   Thessaloníki   Greece 824676.00000           109.60000   \n",
      "2057      Debrecen  Hungary 328642.00000            97.00000   \n",
      "826           Riga   Latvia 920643.00000            85.00000   \n",
      "1417       Homyel’  Belarus 510300.00000            76.00000   \n",
      "\n",
      "      Average Temperature  Yearly Amount of the Sun  Air Quality  \n",
      "933              10.72352                1913.00000           75  \n",
      "916              14.75590                2177.00000           81  \n",
      "2057             10.32841                1988.00000           70  \n",
      "826               6.64515                1754.00000           54  \n",
      "1417              7.70821                1807.00000           70  \n",
      "5 Cities least similar to Budapest :\n",
      "             City      Country     Population  Level of Happiness  \\\n",
      "0           Tokyo        Japan 37732000.00000            49.40000   \n",
      "7062     Tallaght      Ireland    80339.00000            15.60000   \n",
      "3147       Geneva  Switzerland   201818.00000            10.20000   \n",
      "8276  Wagga Wagga    Australia    67364.00000            10.60000   \n",
      "1809     Canberra    Australia   381488.00000            10.60000   \n",
      "\n",
      "      Average Temperature  Yearly Amount of the Sun  Air Quality  \n",
      "0                13.43141                1876.70000           79  \n",
      "7062              9.57001                1453.00000          264  \n",
      "3147              9.73154                2836.00000          128  \n",
      "8276             12.34879                2813.70000           19  \n",
      "1809             12.34879                2813.70000           24  \n"
     ]
    }
   ],
   "source": [
    "similar_recommendations = get_recommendations(user_preferences, n=5)\n",
    "print(\"5 Cities most similar to\", user_City, \":\")\n",
    "print(similar_recommendations[['City', 'Country', 'Population', 'Level of Happiness', 'Average Temperature', 'Yearly Amount of the Sun', 'Air Quality']])\n",
    "\n",
    "least_similar_recommendations = get_least_similar_recommendations(user_preferences, n=5)\n",
    "print(\"5 Cities least similar to\", user_City, \":\")\n",
    "print(least_similar_recommendations[['City', 'Country', 'Population', 'Level of Happiness', 'Average Temperature', 'Yearly Amount of the Sun', 'Air Quality']])"
   ]
  },
  {
   "cell_type": "markdown",
   "id": "bdb3019d-1ac5-4dbb-97cd-ff6be1637260",
   "metadata": {},
   "source": [
    "Hope the recommendation system I created will help some of you to find the ideal place to live!"
   ]
  },
  {
   "cell_type": "markdown",
   "id": "84b44d88-1eed-45ae-bde4-1eca2ffe72be",
   "metadata": {},
   "source": [
    "### Datasets used\n",
    "\n",
    "Cities and Population https://www.kaggle.com/datasets/aziz69/worldcities\n",
    "\n",
    "Air pollution  https://www.kaggle.com/datasets/adityaramachandran27/world-air-quality-index-by-city-and-coordinates\n",
    "\n",
    "Sunshine hours https://www.kaggle.com/datasets/thedevastator/the-sunniest-cities-in-the-world\n",
    "\n",
    "Life expectancy and hours worked https://www.kaggle.com/datasets/evelynkm/life-expectancy-and-hours-worked-by-country-v2\n",
    "\n",
    "Happiness https://www.kaggle.com/datasets/PromptCloudHQ/world-happiness-report-2019"
   ]
  },
  {
   "cell_type": "code",
   "execution_count": null,
   "id": "184252b8-69d0-451b-87a2-970a76020c78",
   "metadata": {},
   "outputs": [],
   "source": []
  }
 ],
 "metadata": {
  "kernelspec": {
   "display_name": "Python 3 (ipykernel)",
   "language": "python",
   "name": "python3"
  },
  "language_info": {
   "codemirror_mode": {
    "name": "ipython",
    "version": 3
   },
   "file_extension": ".py",
   "mimetype": "text/x-python",
   "name": "python",
   "nbconvert_exporter": "python",
   "pygments_lexer": "ipython3",
   "version": "3.9.12"
  }
 },
 "nbformat": 4,
 "nbformat_minor": 5
}
